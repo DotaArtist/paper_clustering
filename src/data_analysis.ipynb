{
 "cells": [
  {
   "cell_type": "code",
   "execution_count": 1,
   "metadata": {
    "collapsed": true,
    "pycharm": {
     "is_executing": false
    }
   },
   "outputs": [],
   "source": [
    "import json\n",
    "import config\n",
    "import pandas as pd"
   ]
  },
  {
   "cell_type": "code",
   "execution_count": 2,
   "metadata": {
    "collapsed": true
   },
   "outputs": [],
   "source": [
    "# {paper_id:{id:'',tittle:'',abstract:'<长文本>',keywords:[],authors:[{name:'',org:''},venue:'',year:'']}} \n",
    "# authors: 中文名LI Heng\n",
    "test_pub = json.load(open(config.test_pub_path, mode='r', encoding='utf-8'))\n",
    "\n",
    "# {authors:[id,...]} hengli\n",
    "test_author = json.load(open(config.test_author_path, mode='r', encoding='utf-8'))\n",
    "\n",
    "train_pub = json.load(open(config.train_pub_path, mode='r', encoding='utf-8'))\n",
    "train_author = json.load(open(config.train_author_path, mode='r', encoding='utf-8'))\n",
    "\n",
    "# {authors:[[id,...],[],[]]}\n",
    "test_cluster = None"
   ]
  },
  {
   "cell_type": "code",
   "execution_count": 3,
   "metadata": {
    "collapsed": true
   },
   "outputs": [],
   "source": [
    "org_name, authors_name = [], []\n",
    "\n",
    "for i in test_pub:\n",
    "    for j in test_pub[i]:\n",
    "        for k in test_pub[i]['authors']:\n",
    "            if \"org\" in k.keys():\n",
    "                if k['org'] != \"\":\n",
    "                    org_name.append(k['org'])\n",
    "                else:\n",
    "                    org_name.append('NO_ORG')\n",
    "                authors_name.append(k['name'])\n",
    "            else:\n",
    "                org_name.append('NO_ORG')\n",
    "                authors_name.append(k['name'])\n",
    "\n",
    "org_authors_statics = pd.DataFrame({'org':org_name, 'authors':authors_name})"
   ]
  },
  {
   "cell_type": "code",
   "execution_count": 3,
   "metadata": {},
   "outputs": [
    {
     "ename": "NameError",
     "evalue": "name 'org_authors_statics' is not defined",
     "output_type": "error",
     "traceback": [
      "\u001b[1;31m---------------------------------------------------------------------------\u001b[0m",
      "\u001b[1;31mNameError\u001b[0m                                 Traceback (most recent call last)",
      "\u001b[1;32m<ipython-input-3-4a73348a64f1>\u001b[0m in \u001b[0;36m<module>\u001b[1;34m()\u001b[0m\n\u001b[1;32m----> 1\u001b[1;33m \u001b[0morg_authors_statics\u001b[0m\u001b[1;33m[\u001b[0m\u001b[0morg_authors_statics\u001b[0m\u001b[1;33m[\u001b[0m\u001b[1;34m'authors'\u001b[0m\u001b[1;33m]\u001b[0m \u001b[1;33m==\u001b[0m \u001b[1;34m'Hao Zhang'\u001b[0m\u001b[1;33m]\u001b[0m\u001b[1;33m[\u001b[0m\u001b[1;34m'org'\u001b[0m\u001b[1;33m]\u001b[0m\u001b[1;33m.\u001b[0m\u001b[0munique\u001b[0m\u001b[1;33m(\u001b[0m\u001b[1;33m)\u001b[0m\u001b[1;33m\u001b[0m\u001b[0m\n\u001b[0m",
      "\u001b[1;31mNameError\u001b[0m: name 'org_authors_statics' is not defined"
     ]
    }
   ],
   "source": [
    "org_authors_statics[org_authors_statics['authors'] == 'Hao Zhang']['org'].unique()"
   ]
  },
  {
   "cell_type": "code",
   "execution_count": 4,
   "metadata": {},
   "outputs": [],
   "source": [
    "with open(config.train_data, mode='w', encoding='utf-8') as f1:\n",
    "    with open(config.content_data, mode='w', encoding='utf-8') as f2:\n",
    "        for paper_id in train_pub:\n",
    "            # paper_id, name_org, tittle, content, keywords, venue, year\n",
    "            name_org = []\n",
    "            for k in train_pub[paper_id]['authors']:\n",
    "                tmp_name_org = []\n",
    "                if \"org\" in k.keys():\n",
    "                    if k['org'] != \"\":\n",
    "                        tmp_name_org.append(k['name'] + '@' + k['org'])\n",
    "                    else:\n",
    "                        tmp_name_org.append(k['name'] + '@' + 'NO_ORG')\n",
    "                else:\n",
    "                    tmp_name_org.append(k['name'] + '@' + 'NO_ORG')\n",
    "            name_org = '|'.join(tmp_name_org)\n",
    "\n",
    "            tittle = train_pub[paper_id]['title']\n",
    "            if isinstance(tittle, type(None)):\n",
    "                tittle = ''\n",
    "\n",
    "            if 'abstract' in train_pub[paper_id].keys():\n",
    "                content = train_pub[paper_id]['abstract']\n",
    "            else:\n",
    "                content = ''\n",
    "            if isinstance(content, type(None)):\n",
    "                content = ''\n",
    "\n",
    "            if 'keywords' in train_pub[paper_id].keys():\n",
    "                keywords = train_pub[paper_id]['keywords']\n",
    "                keywords = '|'.join(keywords)\n",
    "            else:\n",
    "                keywords = ''\n",
    "\n",
    "            venue = train_pub[paper_id]['venue']\n",
    "\n",
    "            if 'year' in train_pub[paper_id].keys():\n",
    "                year = train_pub[paper_id]['year']\n",
    "            else:\n",
    "                year = ''\n",
    "            f1.writelines('{}\\t{}\\t{}\\t{}\\t{}\\t{}\\t{}\\n'.format(paper_id, name_org, tittle.replace('\\n','').strip(), content.replace('\\n', '').strip(), keywords, venue, year))\n",
    "            f2.writelines('{}\\n'.format(content.replace('\\n', '').strip()))\n"
   ]
  },
  {
   "cell_type": "code",
   "execution_count": 13,
   "metadata": {},
   "outputs": [
    {
     "name": "stdout",
     "output_type": "stream",
     "text": [
      "{'authors': [{'name': 'Lingling Weng', 'org': 'Dept. of Pharmaceutical Chemistry'}, {'name': 'Li Guo', 'org': 'Dept. of Pharmaceutical Chemistry'}, {'name': 'Hu Zheng', 'org': 'Dept. of Pharmaceutical Chemistry'}], 'title': 'Synthesis of multifunctional groups and multibranched compounds I. Synthesis of three-directional ether-bond branched compounds', 'abstract': 'New organic molecules-the three-directional ether-bond branched compounds were designed and synthesized. Glycerol used as three-directional initiator core was oxypropylated first to decrease steric hindrance. The core (4) reacted respectively with three-branched building blocks (1-3) by etherification, followed by deprotection to give title compounds (8-10). The number of the hydroxyl group of the compounds (8-10) are twice as that of initiator core. The structure of all new compounds (5-10) were confirmed by IR,\\n                        ', 'keywords': ['Branched building block', 'Cascade molecules', 'Initiator core', 'Three-directional ether-bond branched compounds'], 'venue': 'Journal of West China University of Medical Sciences', 'year': 1996, 'id': 'Rg5fAeTd'}\n"
     ]
    }
   ],
   "source": [
    "\n",
    "print(train_pub['Rg5fAeTd'])"
   ]
  }
 ],
 "metadata": {
  "kernelspec": {
   "display_name": "Python 3",
   "language": "python",
   "name": "python3"
  },
  "language_info": {
   "codemirror_mode": {
    "name": "ipython",
    "version": 3
   },
   "file_extension": ".py",
   "mimetype": "text/x-python",
   "name": "python",
   "nbconvert_exporter": "python",
   "pygments_lexer": "ipython3",
   "version": "3.6.2"
  },
  "pycharm": {
   "stem_cell": {
    "cell_type": "raw",
    "metadata": {
     "collapsed": false
    },
    "source": []
   }
  }
 },
 "nbformat": 4,
 "nbformat_minor": 1
}
