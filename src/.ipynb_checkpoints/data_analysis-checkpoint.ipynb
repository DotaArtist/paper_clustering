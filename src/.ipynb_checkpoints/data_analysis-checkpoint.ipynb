{
 "cells": [
  {
   "cell_type": "code",
   "execution_count": 1,
   "metadata": {
    "collapsed": true,
    "pycharm": {
     "is_executing": false
    }
   },
   "outputs": [],
   "source": [
    "import json\n",
    "import config\n",
    "import pandas as pd"
   ]
  },
  {
   "cell_type": "code",
   "execution_count": 2,
   "metadata": {
    "collapsed": true,
    "pycharm": {
     "is_executing": false
    }
   },
   "outputs": [
    {
     "traceback": [
      "\u001b[1;31m---------------------------------------------------------------------------\u001b[0m",
      "\u001b[1;31mFileNotFoundError\u001b[0m                         Traceback (most recent call last)",
      "\u001b[1;32m<ipython-input-2-5425696e4485>\u001b[0m in \u001b[0;36m<module>\u001b[1;34m()\u001b[0m\n\u001b[0;32m      2\u001b[0m \u001b[1;31m# {paper_id:{id:'',tittle:'',abstract:'<长文本>',keywords:[],authors:[{name:'',org:''},venue:'',year:'']}}\u001b[0m\u001b[1;33m\u001b[0m\u001b[1;33m\u001b[0m\u001b[0m\n\u001b[0;32m      3\u001b[0m \u001b[1;31m# authors: 中文名LI Heng\u001b[0m\u001b[1;33m\u001b[0m\u001b[1;33m\u001b[0m\u001b[0m\n\u001b[1;32m----> 4\u001b[1;33m \u001b[0mtest_pub\u001b[0m \u001b[1;33m=\u001b[0m \u001b[0mjson\u001b[0m\u001b[1;33m.\u001b[0m\u001b[0mload\u001b[0m\u001b[1;33m(\u001b[0m\u001b[0mopen\u001b[0m\u001b[1;33m(\u001b[0m\u001b[0mconfig\u001b[0m\u001b[1;33m.\u001b[0m\u001b[0mtest_pub_path\u001b[0m\u001b[1;33m,\u001b[0m \u001b[0mmode\u001b[0m\u001b[1;33m=\u001b[0m\u001b[1;34m'r'\u001b[0m\u001b[1;33m,\u001b[0m \u001b[0mencoding\u001b[0m\u001b[1;33m=\u001b[0m\u001b[1;34m'utf-8'\u001b[0m\u001b[1;33m)\u001b[0m\u001b[1;33m)\u001b[0m\u001b[1;33m\u001b[0m\u001b[0m\n\u001b[0m\u001b[0;32m      5\u001b[0m \u001b[1;33m\u001b[0m\u001b[0m\n\u001b[0;32m      6\u001b[0m \u001b[1;31m# {authors:[id,...]} hengli\u001b[0m\u001b[1;33m\u001b[0m\u001b[1;33m\u001b[0m\u001b[0m\n",
      "\u001b[1;31mFileNotFoundError\u001b[0m: [Errno 2] No such file or directory: '../data/sna_data/sna_valid_pub.json'"
     ],
     "ename": "FileNotFoundError",
     "evalue": "[Errno 2] No such file or directory: '../data/sna_data/sna_valid_pub.json'",
     "output_type": "error"
    }
   ],
   "source": [
    "# {paper_id:{id:'',tittle:'',abstract:'<长文本>',keywords:[],authors:[{name:'',org:''},venue:'',year:'']}} \n",
    "# authors: 中文名LI Heng\n",
    "test_pub = json.load(open(config.test_pub_path, mode='r', encoding='utf-8'))\n",
    "\n",
    "# {authors:[id,...]} hengli\n",
    "test_author = json.load(open(config.test_author_path, mode='r', encoding='utf-8'))\n",
    "\n",
    "train_pub = json.load(open(config.train_pub_path, mode='r', encoding='utf-8'))\n",
    "train_author = json.load(open(config.train_author_path, mode='r', encoding='utf-8'))\n",
    "\n",
    "# {authors:[[id,...],[],[]]}\n",
    "test_cluster = None"
   ]
  },
  {
   "cell_type": "code",
   "execution_count": null,
   "metadata": {
    "collapsed": true,
    "pycharm": {
     "is_executing": false
    }
   },
   "outputs": [],
   "source": [
    "org_name, authors_name = [], []\n",
    "\n",
    "for i in test_pub:\n",
    "    for j in test_pub[i]:\n",
    "        for k in test_pub[i]['authors']:\n",
    "            if \"org\" in k.keys():\n",
    "                if k['org'] != \"\":\n",
    "                    org_name.append(k['org'])\n",
    "                else:\n",
    "                    org_name.append('NO_ORG')\n",
    "                authors_name.append(k['name'])\n",
    "            else:\n",
    "                org_name.append('NO_ORG')\n",
    "                authors_name.append(k['name'])\n",
    "\n",
    "org_authors_statics = pd.DataFrame({'org':org_name, 'authors':authors_name})"
   ]
  },
  {
   "cell_type": "code",
   "execution_count": null,
   "metadata": {
    "pycharm": {
     "is_executing": false
    }
   },
   "outputs": [],
   "source": [
    "org_authors_statics.groupby('authors').CLIENTCODE.nunique().sort_values(ascending=False)"
   ]
  },
  {
   "cell_type": "code",
   "execution_count": null,
   "metadata": {
    "pycharm": {
     "is_executing": false
    }
   },
   "outputs": [],
   "source": [
    "org_authors_statics[org_authors_statics['authors'] == 'Hao Zhang']['org'].unique()"
   ]
  },
  {
   "cell_type": "code",
   "execution_count": null,
   "metadata": {
    "pycharm": {
     "is_executing": false
    }
   },
   "outputs": [],
   "source": [
    "with open(config.train_data, mode='w', encoding='utf-8') as f1:\n",
    "    for paper_id in train_pub:\n",
    "        # paper_id, name_org, tittle, content, keyword, venue, year\n",
    "        name_org = []\n",
    "        for k in train_pub[paper_id]['authors']:\n",
    "            if \"org\" in k.keys():\n",
    "                if k['org'] != \"\":\n",
    "                    name_org.append(k['name'] + '@' + k['org'])\n",
    "                else:\n",
    "                    name_org.append(k['name'] + '@' + 'NO_ORG')\n",
    "            else:\n",
    "                name_org.append(k['name'] + '@' + 'NO_ORG')\n",
    "        name_org = '|'.join(name_org)\n",
    "        tittle = train_pub[paper_id]['title']\n",
    "        content = train_pub[paper_id]['abstract']\n",
    "            \n",
    "            \n",
    "        f1.writelines('{}\\t{}\\t{}\\t{}\\t{}\\t{}\\t{}\\n'.format(i, ))\n",
    "print(train_pub['P9a1gcvg'])"
   ]
  },
  {
   "cell_type": "code",
   "execution_count": null,
   "metadata": {
    "pycharm": {
     "is_executing": false
    }
   },
   "outputs": [],
   "source": [
    "train_pub"
   ]
  }
 ],
 "metadata": {
  "kernelspec": {
   "display_name": "Python 3",
   "language": "python",
   "name": "python3"
  },
  "language_info": {
   "codemirror_mode": {
    "name": "ipython",
    "version": 3
   },
   "file_extension": ".py",
   "mimetype": "text/x-python",
   "name": "python",
   "nbconvert_exporter": "python",
   "pygments_lexer": "ipython3",
   "version": "3.6.2"
  },
  "pycharm": {
   "stem_cell": {
    "cell_type": "raw",
    "metadata": {
     "collapsed": false
    },
    "source": []
   }
  }
 },
 "nbformat": 4,
 "nbformat_minor": 1
}